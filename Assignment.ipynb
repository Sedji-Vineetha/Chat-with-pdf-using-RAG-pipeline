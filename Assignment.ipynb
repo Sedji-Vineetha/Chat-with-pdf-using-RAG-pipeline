{
  "nbformat": 4,
  "nbformat_minor": 0,
  "metadata": {
    "colab": {
      "provenance": [],
      "authorship_tag": "ABX9TyP0xLFy9qYa8S4N8bAZbUjW",
      "include_colab_link": true
    },
    "kernelspec": {
      "name": "python3",
      "display_name": "Python 3"
    },
    "language_info": {
      "name": "python"
    }
  },
  "cells": [
    {
      "cell_type": "markdown",
      "metadata": {
        "id": "view-in-github",
        "colab_type": "text"
      },
      "source": [
        "<a href=\"https://colab.research.google.com/github/Sedji-Vineetha/Chat-with-pdf-using-RAG-pipeline/blob/main/Assignment.ipynb\" target=\"_parent\"><img src=\"https://colab.research.google.com/assets/colab-badge.svg\" alt=\"Open In Colab\"/></a>"
      ]
    },
    {
      "cell_type": "code",
      "source": [
        "value = 0.25\n",
        "print(f\"percentage:{value:.1%}\")"
      ],
      "metadata": {
        "colab": {
          "base_uri": "https://localhost:8080/"
        },
        "id": "OF9ztmHaY-mf",
        "outputId": "aace1efd-0eec-4a9c-db15-f9a9ee6521f2"
      },
      "execution_count": null,
      "outputs": [
        {
          "output_type": "stream",
          "name": "stdout",
          "text": [
            "percentage:25.0%\n"
          ]
        }
      ]
    },
    {
      "cell_type": "markdown",
      "source": [
        "Question 1: Write a Python program to print \"Hello, World!\"."
      ],
      "metadata": {
        "id": "GnOfVvLQZvpA"
      }
    },
    {
      "cell_type": "code",
      "execution_count": null,
      "metadata": {
        "colab": {
          "base_uri": "https://localhost:8080/"
        },
        "id": "0Y_aTaIjYz89",
        "outputId": "06bd65f1-100d-4d50-b7a1-4e15dad0bd3b"
      },
      "outputs": [
        {
          "output_type": "stream",
          "name": "stdout",
          "text": [
            "Hello, World!.\n"
          ]
        }
      ],
      "source": [
        "print(\"Hello, World!.\")"
      ]
    },
    {
      "cell_type": "markdown",
      "source": [
        "Question 2: Write a Python program that takes a user input and prints it."
      ],
      "metadata": {
        "id": "thn0ZY3_Z7NZ"
      }
    },
    {
      "cell_type": "code",
      "source": [
        "num=input(\"enter the number\")"
      ],
      "metadata": {
        "colab": {
          "base_uri": "https://localhost:8080/"
        },
        "id": "mxFUUfVgdI6A",
        "outputId": "992acfca-f416-44ef-fa28-7b9586eb589d"
      },
      "execution_count": null,
      "outputs": [
        {
          "name": "stdout",
          "output_type": "stream",
          "text": [
            "enter the number21\n"
          ]
        }
      ]
    },
    {
      "cell_type": "markdown",
      "source": [
        "Question 3: Write a Python program to check if a number is positive, negative, or zero."
      ],
      "metadata": {
        "id": "CK0mBLXmZ_PQ"
      }
    },
    {
      "cell_type": "code",
      "source": [
        "num=float(input(\"enter the number\"))\n",
        "if num > 0:\n",
        "  print(\"the number is postive\")\n",
        "elif num<0:\n",
        "  print(\"the number is negative\")\n",
        "else:\n",
        "  print(\"the number is zero\")"
      ],
      "metadata": {
        "colab": {
          "base_uri": "https://localhost:8080/"
        },
        "id": "ng47WNlqdUj1",
        "outputId": "80afe576-2b74-4fdc-e7d7-a721abf169cf"
      },
      "execution_count": null,
      "outputs": [
        {
          "output_type": "stream",
          "name": "stdout",
          "text": [
            "enter the number-6\n",
            "the number is negative\n"
          ]
        }
      ]
    },
    {
      "cell_type": "markdown",
      "source": [
        "Question 4: Write a Python program to find the largest of three numbers."
      ],
      "metadata": {
        "id": "P7co6EtdaDTn"
      }
    },
    {
      "cell_type": "code",
      "source": [
        "num1=input(\"enter the first number\")\n",
        "num2=input(\"enter the second number\")\n",
        "num3=input(\"enter the third number\")\n",
        "if num1 >= num2 and num1 >= num3:\n",
        "  print(\"the largest number is\"+num1)\n",
        "elif num2>=num1 and num2>=num3:\n",
        "  print(\"the largest number is\"+num2)\n",
        "else:\n",
        "  print(\"the largest number is\"+num3)"
      ],
      "metadata": {
        "colab": {
          "base_uri": "https://localhost:8080/"
        },
        "id": "V5kgwovKeU5k",
        "outputId": "4c458cd8-45bf-4247-fb45-9f6e117e0d73"
      },
      "execution_count": null,
      "outputs": [
        {
          "output_type": "stream",
          "name": "stdout",
          "text": [
            "enter the first number2\n",
            "enter the second number4\n",
            "enter the third number6\n",
            "the largest number is6\n"
          ]
        }
      ]
    },
    {
      "cell_type": "markdown",
      "source": [
        "Question 5: Write a Python program to calculate the factorial of a number."
      ],
      "metadata": {
        "id": "J2MUcbZpaGx8"
      }
    },
    {
      "cell_type": "code",
      "source": [
        "num =int(input(\"enter the numnber:\"))\n",
        "factorial = 1\n",
        "if num < 0:\n",
        "  print(\"the factorial not define the -ve\")\n",
        "elif num==0:\n",
        "  print(\"the factorialof 0 is 1\")\n",
        "else:\n",
        "  for i in range(1, num+1):\n",
        "    factorial *= i\n",
        "  print(f\"the factorial of{num} is {factorial}\")"
      ],
      "metadata": {
        "colab": {
          "base_uri": "https://localhost:8080/"
        },
        "id": "Xt0llM02h7XE",
        "outputId": "74801c90-7f5b-4f54-aca2-380a5572a610"
      },
      "execution_count": null,
      "outputs": [
        {
          "output_type": "stream",
          "name": "stdout",
          "text": [
            "enter the numnber:5\n",
            "the factorial of5 is 120\n"
          ]
        }
      ]
    },
    {
      "cell_type": "markdown",
      "source": [
        "Question 6: Create variables of different data types: integer, float, string, and boolean. Print their values and types."
      ],
      "metadata": {
        "id": "qcUb1TUTaNzD"
      }
    },
    {
      "cell_type": "code",
      "source": [
        "integer_var = 10\n",
        "float_var = 3.14\n",
        "string_var = \"Hello, World!\"\n",
        "boolean_var = True\n",
        "print(\"Integer:\", integer_var, \"Type:\", type(integer_var))\n",
        "print(\"Float:\", float_var, \"Type:\", type(float_var))\n",
        "print(\"String:\", string_var, \"Type:\", type(string_var))\n",
        "print(\"Boolean:\", boolean_var, \"Type:\", type(boolean_var))\n"
      ],
      "metadata": {
        "colab": {
          "base_uri": "https://localhost:8080/"
        },
        "id": "-PBdOO0Tjeo5",
        "outputId": "7f3c9e91-de35-4b99-c547-1b72e60fdb5f"
      },
      "execution_count": null,
      "outputs": [
        {
          "output_type": "stream",
          "name": "stdout",
          "text": [
            "Integer: 10 Type: <class 'int'>\n",
            "Float: 3.14 Type: <class 'float'>\n",
            "String: Hello, World! Type: <class 'str'>\n",
            "Boolean: True Type: <class 'bool'>\n"
          ]
        }
      ]
    },
    {
      "cell_type": "markdown",
      "source": [
        "Question 7: Write a Python program to swap the values of two variables."
      ],
      "metadata": {
        "id": "kRdgZuUMaSUX"
      }
    },
    {
      "cell_type": "code",
      "source": [
        "\n",
        "a = 5\n",
        "b = 10\n",
        "print(\"Before swapping: a =\", a, \", b =\", b )\n",
        "a, b = b, a\n",
        "print(\"After swapping: a =\", a, \", b =\", b)\n"
      ],
      "metadata": {
        "colab": {
          "base_uri": "https://localhost:8080/"
        },
        "id": "Die-kb3Pj1o9",
        "outputId": "e0063ad6-c3b4-42ec-b44b-1f52ed1f0c94"
      },
      "execution_count": null,
      "outputs": [
        {
          "output_type": "stream",
          "name": "stdout",
          "text": [
            "Before swapping: a = 5 , b = 10\n",
            "After swapping: a = 10 , b = 5\n"
          ]
        }
      ]
    },
    {
      "cell_type": "code",
      "source": [
        "celsius = 25\n",
        "fahrenheit = (celsius * 9/5) + 32\n",
        "print(celsius, \"°C is equal to\", fahrenheit, \"°F\")\n"
      ],
      "metadata": {
        "colab": {
          "base_uri": "https://localhost:8080/"
        },
        "id": "JX94NfK1kHJN",
        "outputId": "00e8328b-a4b2-447a-aaea-ae317649f596"
      },
      "execution_count": null,
      "outputs": [
        {
          "output_type": "stream",
          "name": "stdout",
          "text": [
            "25 °C is equal to 77.0 °F\n"
          ]
        }
      ]
    },
    {
      "cell_type": "code",
      "source": [
        "str1=\"sedji\"\n",
        "str2=\"vinni\"\n",
        "str3= str1 + str2\n",
        "print(\"the result is  \"+ str3)"
      ],
      "metadata": {
        "colab": {
          "base_uri": "https://localhost:8080/"
        },
        "id": "-Fv5khPekZN5",
        "outputId": "44429b64-a7a8-44c5-aa04-5afbe1699904"
      },
      "execution_count": null,
      "outputs": [
        {
          "output_type": "stream",
          "name": "stdout",
          "text": [
            "the result is  sedjivinni\n"
          ]
        }
      ]
    },
    {
      "cell_type": "code",
      "source": [
        "value = 42\n",
        "if isinstance(value, int):\n",
        "    print(\"The variable is of type int.\")\n",
        "else:\n",
        "    print(\"The variable is not of type int.\")\n"
      ],
      "metadata": {
        "colab": {
          "base_uri": "https://localhost:8080/"
        },
        "id": "lXFAXLIZk1Qb",
        "outputId": "ba8913be-6209-4121-eb4b-8bb5d2190cf4"
      },
      "execution_count": null,
      "outputs": [
        {
          "output_type": "stream",
          "name": "stdout",
          "text": [
            "The variable is of type int.\n"
          ]
        }
      ]
    },
    {
      "cell_type": "code",
      "source": [
        "num1=10\n",
        "num2=20\n",
        "print(\"addition\"+str(num1+num2))\n",
        "print(\"substraction\"+str(num1-num2))\n",
        "print(\"multiplaction\"+str(num1*num2))\n",
        "print(\"division\"+str(num1/num2))"
      ],
      "metadata": {
        "colab": {
          "base_uri": "https://localhost:8080/"
        },
        "id": "1B8ySedylE9V",
        "outputId": "45c58e69-6e89-4a47-be28-b061ae93f68a"
      },
      "execution_count": null,
      "outputs": [
        {
          "output_type": "stream",
          "name": "stdout",
          "text": [
            "addition30\n",
            "substraction-10\n",
            "multiplaction200\n",
            "division0.5\n"
          ]
        }
      ]
    },
    {
      "cell_type": "code",
      "source": [
        "num1=10\n",
        "num2=20\n",
        "print(\"the greater than\"+str(num1>num2))\n",
        "print(\"the less than\"+str(num1<num2))\n",
        "print(\"the greater than\"+str(num1==num2))\n",
        "print(\"the less than\"+str(num1!=num2))\n"
      ],
      "metadata": {
        "colab": {
          "base_uri": "https://localhost:8080/"
        },
        "id": "QfmOrn-Blxx4",
        "outputId": "84c24a57-4744-42d0-8f58-ad9a30150046"
      },
      "execution_count": null,
      "outputs": [
        {
          "output_type": "stream",
          "name": "stdout",
          "text": [
            "the greater thanFalse\n",
            "the less thanTrue\n",
            "the greater thanFalse\n",
            "the less thanTrue\n"
          ]
        }
      ]
    },
    {
      "cell_type": "code",
      "source": [
        "num1=True\n",
        "num2=False\n",
        "print(\"the greater than\",num1 and num2)\n",
        "print(\"the less than\",num1 or num2)\n",
        "print(\"the greater than\",not num1)\n",
        "print(\"the greater than\",not num2)\n"
      ],
      "metadata": {
        "colab": {
          "base_uri": "https://localhost:8080/"
        },
        "id": "UqpFxt9imVfj",
        "outputId": "fcbdc5bf-1f3e-4813-cdf7-d12d76ed854e"
      },
      "execution_count": null,
      "outputs": [
        {
          "output_type": "stream",
          "name": "stdout",
          "text": [
            "the greater than False\n",
            "the less than True\n",
            "the greater than False\n",
            "the greater than True\n"
          ]
        }
      ]
    },
    {
      "cell_type": "code",
      "source": [
        "num = 6\n",
        "square = num ** 2\n",
        "print(\"The square of\", num, \"is\", square)\n"
      ],
      "metadata": {
        "colab": {
          "base_uri": "https://localhost:8080/"
        },
        "id": "rlBSaVtdnXFe",
        "outputId": "52794901-29b3-499f-c89b-1dad26e3ebed"
      },
      "execution_count": null,
      "outputs": [
        {
          "output_type": "stream",
          "name": "stdout",
          "text": [
            "The square of 6 is 36\n"
          ]
        }
      ]
    },
    {
      "cell_type": "code",
      "source": [
        "number = 7\n",
        "if number % 2 == 0:\n",
        "    print(number, \"is even.\")\n",
        "else:\n",
        "    print(number, \"is odd.\")\n"
      ],
      "metadata": {
        "colab": {
          "base_uri": "https://localhost:8080/"
        },
        "id": "yj52E7GKngFh",
        "outputId": "9d33d928-a089-4e94-b9e0-91c5eaeca9c2"
      },
      "execution_count": null,
      "outputs": [
        {
          "output_type": "stream",
          "name": "stdout",
          "text": [
            "7 is odd.\n"
          ]
        }
      ]
    },
    {
      "cell_type": "code",
      "source": [
        "n = 10\n",
        "sum_n = n * (n + 1) // 2\n",
        "print(\"The sum of the first\", n, \"natural numbers is\", sum_n)\n"
      ],
      "metadata": {
        "colab": {
          "base_uri": "https://localhost:8080/"
        },
        "id": "p5GW3YMZnob7",
        "outputId": "7e75247b-5d34-4670-98b0-6b4f6521631f"
      },
      "execution_count": null,
      "outputs": [
        {
          "output_type": "stream",
          "name": "stdout",
          "text": [
            "The sum of the first 10 natural numbers is 55\n"
          ]
        }
      ]
    },
    {
      "cell_type": "code",
      "source": [
        "year = 2024\n",
        "\n",
        "if (year % 4 == 0 and year % 100 != 0) or (year % 400 == 0):\n",
        "    print(year, \"is a leap year.\")\n",
        "else:\n",
        "    print(year, \"is not a leap year.\")\n"
      ],
      "metadata": {
        "colab": {
          "base_uri": "https://localhost:8080/"
        },
        "id": "2PYLxELNnwpt",
        "outputId": "fca21db8-a38a-42c8-e5ee-2e2fffdea821"
      },
      "execution_count": null,
      "outputs": [
        {
          "output_type": "stream",
          "name": "stdout",
          "text": [
            "2024 is a leap year.\n"
          ]
        }
      ]
    },
    {
      "cell_type": "code",
      "source": [
        "text = \"hello\"\n",
        "reversed_text = text[::-1]\n",
        "print(\"Original string:\", text)\n",
        "print(\"Reversed string:\", reversed_text)\n"
      ],
      "metadata": {
        "colab": {
          "base_uri": "https://localhost:8080/"
        },
        "id": "0XQzfNuBn21g",
        "outputId": "c02bbf07-7a2b-404e-c5d5-c9bda6a8493a"
      },
      "execution_count": null,
      "outputs": [
        {
          "output_type": "stream",
          "name": "stdout",
          "text": [
            "Original string: hello\n",
            "Reversed string: olleh\n"
          ]
        }
      ]
    },
    {
      "cell_type": "code",
      "source": [
        "string = \"madam\"\n",
        "if string == string[::-1]:\n",
        "    print(string, \"is a palindrome.\")\n",
        "else:\n",
        "    print(string, \"is not a palindrome.\")\n"
      ],
      "metadata": {
        "colab": {
          "base_uri": "https://localhost:8080/"
        },
        "id": "9I8gGB7loEWV",
        "outputId": "6efcbf2f-a0b1-4f04-8405-730cc1748404"
      },
      "execution_count": null,
      "outputs": [
        {
          "output_type": "stream",
          "name": "stdout",
          "text": [
            "madam is a palindrome.\n"
          ]
        }
      ]
    },
    {
      "cell_type": "code",
      "source": [
        "numbers = [5, 2, 9, 1, 7]\n",
        "numbers.sort()\n",
        "print(\"Sorted list:\", numbers)\n"
      ],
      "metadata": {
        "colab": {
          "base_uri": "https://localhost:8080/"
        },
        "id": "NMP6TGyOoLXy",
        "outputId": "4b806b64-4930-472c-b2e4-b9dd114e65ea"
      },
      "execution_count": null,
      "outputs": [
        {
          "output_type": "stream",
          "name": "stdout",
          "text": [
            "Sorted list: [1, 2, 5, 7, 9]\n"
          ]
        }
      ]
    },
    {
      "cell_type": "code",
      "source": [
        "for i in range(5):\n",
        "  for j in range(5):\n",
        "    print(i,j)"
      ],
      "metadata": {
        "colab": {
          "base_uri": "https://localhost:8080/"
        },
        "id": "pt4Tbb7w3BSR",
        "outputId": "355aa60d-c682-4067-b786-d6a64be38f85"
      },
      "execution_count": null,
      "outputs": [
        {
          "output_type": "stream",
          "name": "stdout",
          "text": [
            "0 0\n",
            "0 1\n",
            "0 2\n",
            "0 3\n",
            "0 4\n",
            "1 0\n",
            "1 1\n",
            "1 2\n",
            "1 3\n",
            "1 4\n",
            "2 0\n",
            "2 1\n",
            "2 2\n",
            "2 3\n",
            "2 4\n",
            "3 0\n",
            "3 1\n",
            "3 2\n",
            "3 3\n",
            "3 4\n",
            "4 0\n",
            "4 1\n",
            "4 2\n",
            "4 3\n",
            "4 4\n"
          ]
        }
      ]
    },
    {
      "cell_type": "code",
      "source": [
        "def add(a,b):\n",
        "  return a+b\n",
        "num1=20\n",
        "num2=50\n",
        "print(add(num1,num2))\n",
        "print(add(10,20))"
      ],
      "metadata": {
        "colab": {
          "base_uri": "https://localhost:8080/"
        },
        "id": "ovTfzO9DXWvX",
        "outputId": "e54cec46-7b82-494a-d8c2-83f5a110cc96"
      },
      "execution_count": null,
      "outputs": [
        {
          "output_type": "stream",
          "name": "stdout",
          "text": [
            "70\n",
            "30\n"
          ]
        }
      ]
    },
    {
      "cell_type": "code",
      "source": [
        "def power(x,y):\n",
        "  return x**y\n",
        "print(power(x=3,y=2))\n",
        "print(power(x=2,y=3))"
      ],
      "metadata": {
        "colab": {
          "base_uri": "https://localhost:8080/"
        },
        "id": "MEVS0XrvX3Ss",
        "outputId": "5d294673-9a2d-4a84-ad5e-0aa5aecb5c93"
      },
      "execution_count": null,
      "outputs": [
        {
          "output_type": "stream",
          "name": "stdout",
          "text": [
            "9\n",
            "8\n"
          ]
        }
      ]
    },
    {
      "cell_type": "code",
      "source": [
        "def multiply(a,b):\n",
        "  return a*b\n",
        "\n",
        "print(multiply(6,3))"
      ],
      "metadata": {
        "colab": {
          "base_uri": "https://localhost:8080/"
        },
        "id": "Ej5CxkfOZs9d",
        "outputId": "7d4bc13d-21a7-482f-aaba-73edf980511e"
      },
      "execution_count": null,
      "outputs": [
        {
          "output_type": "stream",
          "name": "stdout",
          "text": [
            "18\n"
          ]
        }
      ]
    },
    {
      "cell_type": "code",
      "source": [
        "num=10\n",
        "if num%2==0:\n",
        "  print(\"the number is even number\")\n",
        "else:\n",
        "  print(\"the number is odd number\")"
      ],
      "metadata": {
        "colab": {
          "base_uri": "https://localhost:8080/"
        },
        "id": "4zcm_hLMaLwO",
        "outputId": "ba9bffa6-f99e-4e01-b2dc-c8dcbe155dad"
      },
      "execution_count": null,
      "outputs": [
        {
          "output_type": "stream",
          "name": "stdout",
          "text": [
            "the number is even number\n"
          ]
        }
      ]
    },
    {
      "cell_type": "code",
      "source": [
        "def even_off(num):\n",
        "    if num%2==0:\n",
        "      return \"the number is even\"\n",
        "    else:\n",
        "     return \"the number is odd\"\n",
        "num=int(input(\"enter the number\"))\n",
        "print(even_off(num))"
      ],
      "metadata": {
        "colab": {
          "base_uri": "https://localhost:8080/"
        },
        "id": "f3Rp9bljarXr",
        "outputId": "2f50cea3-5b33-4e34-bf52-3926a0c96230"
      },
      "execution_count": null,
      "outputs": [
        {
          "output_type": "stream",
          "name": "stdout",
          "text": [
            "enter the number40\n",
            "the number is even\n"
          ]
        }
      ]
    },
    {
      "cell_type": "markdown",
      "source": [
        "Assignment 1: Simple if Statement\n",
        "Write a program that asks the user to input a number and prints whether the number is positive."
      ],
      "metadata": {
        "id": "NN2Wy7VOY0gV"
      }
    },
    {
      "cell_type": "code",
      "source": [
        "num=int(input(\"enter the number\"))\n",
        "if num>0:\n",
        "  print(\"the number is postive\")\n",
        "else:\n",
        "  print(\"the number is negative\")"
      ],
      "metadata": {
        "colab": {
          "base_uri": "https://localhost:8080/"
        },
        "id": "_O82PpRipIpk",
        "outputId": "c1a63bd8-d23e-418e-887e-e04dd474658a"
      },
      "execution_count": null,
      "outputs": [
        {
          "output_type": "stream",
          "name": "stdout",
          "text": [
            "enter the number7\n",
            "the number is postive\n"
          ]
        }
      ]
    },
    {
      "cell_type": "markdown",
      "source": [
        "Assignment 2: if-else Statement\n",
        "Write a program that asks the user to input a number and prints whether the number is positive or negative.\n"
      ],
      "metadata": {
        "id": "-HG87HWAY6eh"
      }
    },
    {
      "cell_type": "code",
      "source": [
        "num=int(input(\"enter the number\"))\n",
        "if num>0:\n",
        "  print(\"the number is postive\")\n",
        "else:\n",
        "  print(\"the number is negative\")"
      ],
      "metadata": {
        "colab": {
          "base_uri": "https://localhost:8080/"
        },
        "id": "VrtA2mYDX2Ps",
        "outputId": "94ff2fac-5623-46ce-fbfc-4537e01a7af1"
      },
      "execution_count": null,
      "outputs": [
        {
          "output_type": "stream",
          "name": "stdout",
          "text": [
            "enter the number-11\n",
            "the number is negative\n"
          ]
        }
      ]
    },
    {
      "cell_type": "markdown",
      "source": [
        "Assignment 3: if-elif-else Statement\n",
        "Write a program that asks the user to input a number and prints whether the number is positive, negative, or zero."
      ],
      "metadata": {
        "id": "z3ClFUH6ZXw7"
      }
    },
    {
      "cell_type": "code",
      "source": [
        "num = float(input(\"Enter a number: \"))\n",
        "if num > 0:\n",
        "    print(\"The number is positive.\")\n",
        "elif num < 0:\n",
        "    print(\"The number is negative.\")\n",
        "else:\n",
        "    print(\"The number is zero.\")\n"
      ],
      "metadata": {
        "colab": {
          "base_uri": "https://localhost:8080/"
        },
        "id": "caiJme9SZZ6f",
        "outputId": "b76665a3-64c8-4390-eb2f-dad0402f0e36"
      },
      "execution_count": null,
      "outputs": [
        {
          "output_type": "stream",
          "name": "stdout",
          "text": [
            "Enter a number: 0\n",
            "The number is zero.\n"
          ]
        }
      ]
    },
    {
      "cell_type": "markdown",
      "source": [
        "Assignment 4: Nested if Statement\n",
        "Write a program that asks the user to input a number and prints whether the number is positive and even, positive and odd, or negative."
      ],
      "metadata": {
        "id": "sNFe87vHZpnd"
      }
    },
    {
      "cell_type": "code",
      "source": [
        "num = int(input(\"Enter a number: \"))\n",
        "if num > 0:\n",
        "\n",
        "    if num % 2 == 0:\n",
        "        print(\"The number is positive and even.\")\n",
        "    else:\n",
        "        print(\"The number is positive and odd.\")\n",
        "elif num < 0:\n",
        "    print(\"The number is negative.\")\n",
        "else:\n",
        "    print(\"The number is zero.\")\n"
      ],
      "metadata": {
        "colab": {
          "base_uri": "https://localhost:8080/"
        },
        "id": "Wye_KJPWZyKF",
        "outputId": "6480b8fc-dc72-4fb8-f60d-3a87ddfd88fb"
      },
      "execution_count": null,
      "outputs": [
        {
          "output_type": "stream",
          "name": "stdout",
          "text": [
            "Enter a number: 2\n",
            "The number is positive and even.\n"
          ]
        }
      ]
    },
    {
      "cell_type": "markdown",
      "source": [
        "Assignment 5: for Loop\n",
        "Write a program that prints all the numbers from 1 to 10 using a for loop."
      ],
      "metadata": {
        "id": "_kCE4qDCaDJL"
      }
    },
    {
      "cell_type": "code",
      "source": [
        "num=int(input(\"enter the number\"))\n",
        "for i in range(1,11):\n",
        "    print(i)"
      ],
      "metadata": {
        "colab": {
          "base_uri": "https://localhost:8080/"
        },
        "id": "Fb1Tu9WzaMEg",
        "outputId": "7c97bdd3-2706-46b9-e76c-3643c687a407"
      },
      "execution_count": null,
      "outputs": [
        {
          "output_type": "stream",
          "name": "stdout",
          "text": [
            "enter the number10\n",
            "1\n",
            "2\n",
            "3\n",
            "4\n",
            "5\n",
            "6\n",
            "7\n",
            "8\n",
            "9\n",
            "10\n"
          ]
        }
      ]
    },
    {
      "cell_type": "markdown",
      "source": [
        "Assignment 6: while Loop\n",
        "Write a program that prints all the numbers from 1 to 10 using a while loop."
      ],
      "metadata": {
        "id": "3xKC1tZaau6I"
      }
    },
    {
      "cell_type": "code",
      "source": [
        "i=1\n",
        "while i <= 10:\n",
        "    print(i)\n",
        "    i += 1"
      ],
      "metadata": {
        "colab": {
          "base_uri": "https://localhost:8080/"
        },
        "id": "MQOZR2q0awvC",
        "outputId": "702ae36c-a977-405c-f11b-146e79626cd8"
      },
      "execution_count": null,
      "outputs": [
        {
          "output_type": "stream",
          "name": "stdout",
          "text": [
            "1\n",
            "2\n",
            "3\n",
            "4\n",
            "5\n",
            "6\n",
            "7\n",
            "8\n",
            "9\n",
            "10\n"
          ]
        }
      ]
    },
    {
      "cell_type": "markdown",
      "source": [
        "Assignment 7: Nested Loops\n",
        "Write a program that prints a 5x5 grid of asterisks (*) using nested loops."
      ],
      "metadata": {
        "id": "laO9X0XjbQRf"
      }
    },
    {
      "cell_type": "code",
      "source": [
        "for i in range(5):\n",
        "    for j in range(5):\n",
        "        print(\"*\", end=\" \")\n",
        "    print()"
      ],
      "metadata": {
        "colab": {
          "base_uri": "https://localhost:8080/"
        },
        "id": "zbypHmSRbN75",
        "outputId": "8bc3d5f3-e6bc-47e6-e1f5-018aa130e473"
      },
      "execution_count": null,
      "outputs": [
        {
          "output_type": "stream",
          "name": "stdout",
          "text": [
            "* * * * * \n",
            "* * * * * \n",
            "* * * * * \n",
            "* * * * * \n",
            "* * * * * \n"
          ]
        }
      ]
    },
    {
      "cell_type": "markdown",
      "source": [
        "Assignment 8: break Statement\n",
        "Write a program that asks the user to input numbers until they input 0. The program should print the sum of all the input numbers."
      ],
      "metadata": {
        "id": "pJH88mEebke5"
      }
    },
    {
      "cell_type": "code",
      "source": [
        "total = 0\n",
        "while True:\n",
        "    num = int(input(\"Enter a number: \"))\n",
        "    if num == 0:\n",
        "        break\n",
        "    total += num\n",
        "print(\"The sum of all input numbers is:\", total)"
      ],
      "metadata": {
        "colab": {
          "base_uri": "https://localhost:8080/"
        },
        "id": "SHtA1L_Hbyaw",
        "outputId": "9420def3-b164-4835-b489-5c1ce41b4068"
      },
      "execution_count": null,
      "outputs": [
        {
          "output_type": "stream",
          "name": "stdout",
          "text": [
            "Enter a number: 5\n",
            "Enter a number: 0\n",
            "The sum of all input numbers is: 5\n"
          ]
        }
      ]
    },
    {
      "cell_type": "markdown",
      "source": [
        "Assignment 9: continue Statement\n",
        "Write a program that prints all the numbers from 1 to 10 except 5 using a for loop and continue statement."
      ],
      "metadata": {
        "id": "fFSmJRBtcPIa"
      }
    },
    {
      "cell_type": "code",
      "source": [
        "for i in range(1, 11):\n",
        "    if i == 5:\n",
        "        continue\n",
        "    print(i)"
      ],
      "metadata": {
        "colab": {
          "base_uri": "https://localhost:8080/"
        },
        "id": "Q9dnIAhNclU2",
        "outputId": "c806fc54-532d-464d-bff0-b0bf536dbbc1"
      },
      "execution_count": null,
      "outputs": [
        {
          "output_type": "stream",
          "name": "stdout",
          "text": [
            "1\n",
            "2\n",
            "3\n",
            "4\n",
            "6\n",
            "7\n",
            "8\n",
            "9\n",
            "10\n"
          ]
        }
      ]
    },
    {
      "cell_type": "markdown",
      "source": [
        "Assignment 10: pass Statement\n",
        "Write a program that defines an empty function using the pass statement."
      ],
      "metadata": {
        "id": "EEe8XVF9coz9"
      }
    },
    {
      "cell_type": "code",
      "source": [
        "def my_function():\n",
        "    pass\n",
        "my_function()"
      ],
      "metadata": {
        "id": "txWgBOiBcu1R"
      },
      "execution_count": null,
      "outputs": []
    },
    {
      "cell_type": "markdown",
      "source": [
        "Assignment 11: Combining Loops and Conditionals\n",
        "Write a program that asks the user to input a number and prints all the even numbers from 1 to that number using a for loop."
      ],
      "metadata": {
        "id": "-qaX6d4YdBLC"
      }
    },
    {
      "cell_type": "code",
      "source": [
        "limit = int(input(\"Enter a number: \"))\n",
        "for i in range(1, limit + 1):\n",
        "    if i % 2 == 0:\n",
        "        print(i)"
      ],
      "metadata": {
        "colab": {
          "base_uri": "https://localhost:8080/"
        },
        "id": "fnJRohJrdEgg",
        "outputId": "ead31cc0-b9ea-4fca-a187-32e20304c1a8"
      },
      "execution_count": null,
      "outputs": [
        {
          "output_type": "stream",
          "name": "stdout",
          "text": [
            "Enter a number: 10\n",
            "2\n",
            "4\n",
            "6\n",
            "8\n",
            "10\n"
          ]
        }
      ]
    },
    {
      "cell_type": "markdown",
      "source": [
        "Assignment 12: Factorial Calculation\n",
        "Write a program that calculates the factorial of a number input by the user using a while loop"
      ],
      "metadata": {
        "id": "1kI2mNYQdTBK"
      }
    },
    {
      "cell_type": "code",
      "source": [
        "num = int(input(\"Enter a number: \"))\n",
        "if num < 0:\n",
        "    print(\"Factorial is not defined for negative numbers.\")\n",
        "else:\n",
        "    factorial = 1\n",
        "    i = 1\n",
        "    while i <= num:\n",
        "        factorial *= i\n",
        "        i += 1\n",
        "    print(\"The factorial of\", num, \"is\", factorial)"
      ],
      "metadata": {
        "colab": {
          "base_uri": "https://localhost:8080/"
        },
        "id": "uPJQQHqldZo2",
        "outputId": "846ad7a9-1641-494b-b6c7-c039dc599520"
      },
      "execution_count": null,
      "outputs": [
        {
          "output_type": "stream",
          "name": "stdout",
          "text": [
            "Enter a number: 5\n",
            "The factorial of 5 is 120\n"
          ]
        }
      ]
    },
    {
      "cell_type": "markdown",
      "source": [
        "Assignment 13: Sum of Digits\n",
        "Write a program that calculates the sum of the digits of a number input by the user using a while loop."
      ],
      "metadata": {
        "id": "4rp3sCbWeH3a"
      }
    },
    {
      "cell_type": "code",
      "source": [
        "num = int(input(\"Enter a number: \"))\n",
        "digit_sum = 0\n",
        "n = abs(num)\n",
        "while n > 0:\n",
        "    digit = n % 10\n",
        "    digit_sum += digit\n",
        "    n //= 10\n",
        "print(\"The sum of digits of\", num, \"is\", digit_sum)"
      ],
      "metadata": {
        "colab": {
          "base_uri": "https://localhost:8080/"
        },
        "id": "qJ8i6xfFea6W",
        "outputId": "608dbf32-3662-49aa-e6d6-40b97b68fe5e"
      },
      "execution_count": null,
      "outputs": [
        {
          "output_type": "stream",
          "name": "stdout",
          "text": [
            "Enter a number: 1234\n",
            "The sum of digits of 1234 is 10\n"
          ]
        }
      ]
    },
    {
      "cell_type": "markdown",
      "source": [
        "Assignment 14: Prime Number Check\n",
        "Write a program that checks if a number input by the user is a prime number using a for loop."
      ],
      "metadata": {
        "id": "1AvxhlH8e6eI"
      }
    },
    {
      "cell_type": "code",
      "source": [
        "num=12\n",
        "if num < 2:\n",
        "    print(num, \"is not a prime number.\")\n",
        "else:\n",
        "    is_prime = True\n",
        "    for i in range(2, num):\n",
        "        if num % i == 0:\n",
        "            is_prime = False\n",
        "            break\n",
        "    if is_prime:\n",
        "        print(num, \"is a prime number.\")\n",
        "    else:\n",
        "        print(num, \"is not a prime number.\")"
      ],
      "metadata": {
        "colab": {
          "base_uri": "https://localhost:8080/"
        },
        "id": "WrkmCygce-dC",
        "outputId": "621b925b-fd21-478b-dfd2-5951a6aea12c"
      },
      "execution_count": null,
      "outputs": [
        {
          "output_type": "stream",
          "name": "stdout",
          "text": [
            "12 is not a prime number.\n"
          ]
        }
      ]
    },
    {
      "cell_type": "markdown",
      "source": [
        "Assignment 15: Fibonacci Sequence\n",
        "Write a program that prints the first n Fibonacci numbers, where n is input by the user."
      ],
      "metadata": {
        "id": "25FVbrUTfbz3"
      }
    },
    {
      "cell_type": "code",
      "source": [
        "n = int(input(\"Enter how many Fibonacci numbers to print: \"))\n",
        "a, b = 0, 1\n",
        "count = 0\n",
        "if n <= 0:\n",
        "    print(\"Please enter a positive integer.\")\n",
        "elif n == 1:\n",
        "    print(\"Fibonacci sequence:\")\n",
        "    print(a)\n",
        "else:\n",
        "    print(\"Fibonacci sequence:\")\n",
        "    while count < n:\n",
        "        print(a, end=\" \")\n",
        "        a, b = b, a + b\n",
        "        count += 1"
      ],
      "metadata": {
        "colab": {
          "base_uri": "https://localhost:8080/"
        },
        "id": "Bp8NiXzffrjp",
        "outputId": "04f3fb4e-626c-41f7-bd74-ff4a9b104167"
      },
      "execution_count": null,
      "outputs": [
        {
          "output_type": "stream",
          "name": "stdout",
          "text": [
            "Enter how many Fibonacci numbers to print: 10\n",
            "Fibonacci sequence:\n",
            "0 1 1 2 3 5 8 13 21 34 "
          ]
        }
      ]
    }
  ]
}